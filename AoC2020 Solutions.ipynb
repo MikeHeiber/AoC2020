{
 "cells": [
  {
   "cell_type": "code",
   "execution_count": 1,
   "metadata": {},
   "outputs": [],
   "source": [
    "import numpy as np\n",
    "import itertools"
   ]
  },
  {
   "cell_type": "markdown",
   "metadata": {},
   "source": [
    "## Day 1\n",
    "\n",
    "https://adventofcode.com/2020/day/1\n",
    "\n",
    "### Part 1\n",
    "\n",
    "\"Before you leave, the Elves in accounting just need you to fix your expense report (your puzzle input); apparently, something isn't quite adding up.\n",
    "\n",
    "Specifically, they need you to find the two entries that sum to 2020 and then multiply those two numbers together...\n",
    "\n",
    "Find the two entries that sum to 2020; what do you get if you multiply them together?\""
   ]
  },
  {
   "cell_type": "code",
   "execution_count": 2,
   "metadata": {},
   "outputs": [
    {
     "data": {
      "text/plain": [
       "array([1981, 1415, 1767, 1725, 1656, 1860, 1272, 1582, 1668, 1202, 1360,\n",
       "       1399, 1517, 1063, 1773, 1194, 1104, 1652, 1316, 1883, 1117,  522,\n",
       "       1212, 1081, 1579, 1571, 1393,  243, 1334, 1934, 1912, 1784, 1648,\n",
       "       1881, 1362, 1974, 1592, 1639, 1578, 1650, 1771, 1384, 1374, 1569,\n",
       "       1785, 1964, 1910, 1787, 1865, 1373, 1678, 1708, 1147, 1426, 1323,\n",
       "        855, 1257, 1497, 1326, 1764, 1793, 1993, 1926, 1387, 1441, 1332,\n",
       "       1018, 1949, 1807, 1431, 1933, 2009, 1840, 1628,  475, 1601, 1903,\n",
       "       1294, 1942, 1080, 1817, 1848, 1097, 1600, 1833, 1665, 1919, 1408,\n",
       "       1963, 1140, 1558, 1847, 1491, 1367, 1826, 1454, 1714, 2003, 1378,\n",
       "       1301, 1520, 1269, 1820, 1252, 1760, 1135, 1893, 1904, 1956, 1344,\n",
       "       1743, 1358, 1489, 1174, 1675, 1765, 1093, 1543, 1940, 1634, 1778,\n",
       "       1732, 1423, 1308, 1855,  962, 1873, 1692, 1485, 1766, 1287, 1388,\n",
       "       1671, 1002, 1524, 1891, 1627, 1155, 1185, 1122, 1603, 1989, 1343,\n",
       "       1745, 1868, 1166, 1253, 1136, 1803, 1733, 1310, 1762, 1319, 1930,\n",
       "       1637, 1726, 1446,  266, 1121, 1851, 1819, 1284, 1959, 1449, 1965,\n",
       "       1687, 1079, 1808, 1839, 1626, 1359, 1935, 1247, 1932, 1951, 1318,\n",
       "       1597, 1268,  643, 1938, 1741, 1721, 1640, 1238, 1976, 1237, 1960,\n",
       "       1805, 1757, 1990, 1276, 1157, 1469, 1794, 1914, 1982, 1115, 1907,\n",
       "       1846, 1674])"
      ]
     },
     "execution_count": 2,
     "metadata": {},
     "output_type": "execute_result"
    }
   ],
   "source": [
    "data = np.loadtxt('./data/day1_expense_report.txt', dtype='int32')\n",
    "data"
   ]
  },
  {
   "cell_type": "markdown",
   "metadata": {},
   "source": [
    "Nested loop solution"
   ]
  },
  {
   "cell_type": "code",
   "execution_count": 3,
   "metadata": {},
   "outputs": [
    {
     "name": "stdout",
     "output_type": "stream",
     "text": [
      "1020036\n",
      "Wall time: 14 ms\n"
     ]
    }
   ],
   "source": [
    "%%time\n",
    "answer = None\n",
    "for i in range(len(data)):\n",
    "    for j in range(i+1, len(data)):\n",
    "        if data[i] + data[j] == 2020:\n",
    "            answer = data[i] * data[j]\n",
    "            break\n",
    "\n",
    "print(answer)"
   ]
  },
  {
   "cell_type": "markdown",
   "metadata": {},
   "source": [
    "Pythonic solution"
   ]
  },
  {
   "cell_type": "code",
   "execution_count": 4,
   "metadata": {
    "scrolled": false
   },
   "outputs": [
    {
     "name": "stdout",
     "output_type": "stream",
     "text": [
      "1020036\n",
      "Wall time: 8.98 ms\n"
     ]
    }
   ],
   "source": [
    "%%time\n",
    "answer = None\n",
    "combinations_list = list(itertools.combinations(data, 2))\n",
    "answer = next(np.prod(item) for item in combinations_list if sum(item) == 2020)\n",
    "print(answer)"
   ]
  },
  {
   "cell_type": "markdown",
   "metadata": {},
   "source": [
    "Sort-based solution by @privotti"
   ]
  },
  {
   "cell_type": "code",
   "execution_count": 5,
   "metadata": {},
   "outputs": [
    {
     "name": "stdout",
     "output_type": "stream",
     "text": [
      "1020036\n",
      "Wall time: 1.07 ms\n"
     ]
    }
   ],
   "source": [
    "%%time\n",
    "answer = None\n",
    "data_sorted = np.sort(data)\n",
    "idx1 = 0\n",
    "idx2 = len(data_sorted)-1\n",
    "while idx1 < idx2:\n",
    "    num1 = data_sorted[idx1]\n",
    "    num2 = data_sorted[idx2]\n",
    "    summation = num1 + num2\n",
    "    if summation == 2020:\n",
    "        answer = num1 * num2\n",
    "        break\n",
    "    elif summation > 2020:\n",
    "        idx2 -= 1\n",
    "    elif summation < 2020:\n",
    "        idx1 += 1\n",
    "\n",
    "print(answer)"
   ]
  },
  {
   "cell_type": "markdown",
   "metadata": {},
   "source": [
    "### Part 2\n",
    "\n",
    "\"The Elves in accounting are thankful for your help; one of them even offers you a starfish coin they had left over from a past vacation. They offer you a second one if you can find three numbers in your expense report that meet the same criteria...\n",
    "\n",
    "In your expense report, what is the product of the three entries that sum to 2020?\""
   ]
  },
  {
   "cell_type": "markdown",
   "metadata": {},
   "source": [
    "Nested loop solution"
   ]
  },
  {
   "cell_type": "code",
   "execution_count": 6,
   "metadata": {},
   "outputs": [
    {
     "name": "stdout",
     "output_type": "stream",
     "text": [
      "286977330\n",
      "Wall time: 1.31 s\n"
     ]
    }
   ],
   "source": [
    "%%time\n",
    "answer = None\n",
    "for i in range(len(data)):\n",
    "    for j in range(i+1, len(data)):\n",
    "        for k in range(j+1, len(data)):\n",
    "            if data[i] + data[j] + data[k] == 2020:\n",
    "                answer = data[i] * data[j] * data[k]\n",
    "                break\n",
    "\n",
    "print(answer)"
   ]
  },
  {
   "cell_type": "markdown",
   "metadata": {},
   "source": [
    "Pythonic solution"
   ]
  },
  {
   "cell_type": "code",
   "execution_count": 7,
   "metadata": {},
   "outputs": [
    {
     "name": "stdout",
     "output_type": "stream",
     "text": [
      "286977330\n",
      "Wall time: 419 ms\n"
     ]
    }
   ],
   "source": [
    "%%time\n",
    "answer = None\n",
    "combinations_list = list(itertools.combinations(data, 3))\n",
    "answer = next(np.prod(item) for item in combinations_list if sum(item) == 2020)\n",
    "print(answer)"
   ]
  },
  {
   "cell_type": "markdown",
   "metadata": {},
   "source": [
    "Sort-based solution"
   ]
  },
  {
   "cell_type": "code",
   "execution_count": 8,
   "metadata": {},
   "outputs": [
    {
     "name": "stdout",
     "output_type": "stream",
     "text": [
      "286977330\n",
      "Wall time: 0 ns\n"
     ]
    }
   ],
   "source": [
    "%%time\n",
    "answer = None\n",
    "data_sorted = np.sort(data)\n",
    "idx1 = 0\n",
    "idx2 = len(data_sorted)-1\n",
    "while idx1 < idx2:\n",
    "    num1 = data_sorted[idx1]\n",
    "    num2 = data_sorted[idx2]\n",
    "    if num1 + data_sorted[idx1+1] + num2 > 2020:\n",
    "        idx2 -= 1\n",
    "    elif num1 + data_sorted[idx2-1] + num2 < 2020:\n",
    "        idx1 += 1\n",
    "    else:\n",
    "        target = 2020 - num2 - num1\n",
    "        for idx3 in range(idx1+1, idx2):\n",
    "            num3 = data_sorted[idx3]\n",
    "            if num3 == target:\n",
    "                answer = num1 * num2 * num3\n",
    "                break\n",
    "            if num3 > target:\n",
    "                idx1 += 1\n",
    "                break\n",
    "    if answer is not None:\n",
    "        break\n",
    "\n",
    "print(answer)"
   ]
  },
  {
   "cell_type": "markdown",
   "metadata": {},
   "source": [
    "## Day 2\n",
    "\n",
    "### Part 1\n",
    "\n",
    "\"Their password database seems to be a little corrupted: some of the passwords wouldn't have been allowed by the Official Toboggan Corporate Policy that was in effect when they were chosen.\n",
    "\n",
    "To try to debug the problem, they have created a list (your puzzle input) of passwords (according to the corrupted database) and the corporate policy when that password was set.\n",
    "\n",
    "For example, suppose you have the following list:\n",
    "``` {\n",
    "1-3 a: abcde\n",
    "1-3 b: cdefg\n",
    "2-9 c: ccccccccc\n",
    "```\n",
    "\n",
    "Each line gives the password policy and then the password. The password policy indicates the lowest and highest number of times a given letter must appear for the password to be valid. For example, 1-3 a means that the password must contain a at least 1 time and at most 3 times.\n",
    "\n",
    "In the above example, 2 passwords are valid. The middle password, cdefg, is not; it contains no instances of b, but needs at least 1. The first and third passwords are valid: they contain one a or nine c, both within the limits of their respective policies.\n",
    "\n",
    "How many passwords are valid according to their policies?\""
   ]
  },
  {
   "cell_type": "code",
   "execution_count": 9,
   "metadata": {},
   "outputs": [
    {
     "data": {
      "text/plain": [
       "array([['2-5', 'z:', 'zzztvz'],\n",
       "       ['2-8', 'd:', 'pddzddkdvqgxndd'],\n",
       "       ['4-14', 'r:', 'rrrjrrrrrrbrrccrr'],\n",
       "       ...,\n",
       "       ['1-11', 't:', 'tfvtqvlbtld'],\n",
       "       ['4-5', 'k:', 'kkkczkkkvkkk'],\n",
       "       ['2-7', 'p:', 'ptphppvppppp']], dtype=object)"
      ]
     },
     "execution_count": 9,
     "metadata": {},
     "output_type": "execute_result"
    }
   ],
   "source": [
    "data = np.loadtxt('./data/day2_password_data.txt', dtype='object')\n",
    "data"
   ]
  },
  {
   "cell_type": "code",
   "execution_count": 10,
   "metadata": {},
   "outputs": [
    {
     "data": {
      "text/plain": [
       "460"
      ]
     },
     "execution_count": 10,
     "metadata": {},
     "output_type": "execute_result"
    }
   ],
   "source": [
    "count_valid = 0\n",
    "\n",
    "for line in data:\n",
    "    count_min = int(line[0].split('-')[0])\n",
    "    count_max = int(line[0].split('-')[1])\n",
    "    character = line[1][:-1]\n",
    "    password = line[2]\n",
    "    count = password.count(character)\n",
    "    if(count >= count_min and count <= count_max):\n",
    "        count_valid += 1\n",
    "\n",
    "count_valid"
   ]
  },
  {
   "cell_type": "markdown",
   "metadata": {},
   "source": [
    "### Part 2\n",
    "\n",
    "\"Each policy actually describes two positions in the password, where 1 means the first character, 2 means the second character, and so on. (Be careful; Toboggan Corporate Policies have no concept of 'index zero'!) Exactly one of these positions must contain the given letter. Other occurrences of the letter are irrelevant for the purposes of policy enforcement.\n",
    "\n",
    "Given the same example list from above:\n",
    "```\n",
    "1-3 a: abcde is valid: position 1 contains a and position 3 does not.\n",
    "1-3 b: cdefg is invalid: neither position 1 nor position 3 contains b.\n",
    "2-9 c: ccccccccc is invalid: both position 2 and position 9 contain c.\n",
    "```\n",
    "How many passwords are valid according to the new interpretation of the policies?\""
   ]
  },
  {
   "cell_type": "code",
   "execution_count": 11,
   "metadata": {},
   "outputs": [
    {
     "data": {
      "text/plain": [
       "251"
      ]
     },
     "execution_count": 11,
     "metadata": {},
     "output_type": "execute_result"
    }
   ],
   "source": [
    "count_valid = 0\n",
    "\n",
    "for line in data:\n",
    "    position1 = int(line[0].split('-')[0])\n",
    "    position2 = int(line[0].split('-')[1])\n",
    "    character = line[1][:-1]\n",
    "    password = line[2]\n",
    "    if((password[position1-1] == character) is not (password[position2-1] == character)):\n",
    "        count_valid += 1\n",
    "\n",
    "count_valid"
   ]
  },
  {
   "cell_type": "code",
   "execution_count": null,
   "metadata": {},
   "outputs": [],
   "source": []
  }
 ],
 "metadata": {
  "kernelspec": {
   "display_name": "Python 3",
   "language": "python",
   "name": "python3"
  },
  "language_info": {
   "codemirror_mode": {
    "name": "ipython",
    "version": 3
   },
   "file_extension": ".py",
   "mimetype": "text/x-python",
   "name": "python",
   "nbconvert_exporter": "python",
   "pygments_lexer": "ipython3",
   "version": "3.6.12"
  }
 },
 "nbformat": 4,
 "nbformat_minor": 4
}
