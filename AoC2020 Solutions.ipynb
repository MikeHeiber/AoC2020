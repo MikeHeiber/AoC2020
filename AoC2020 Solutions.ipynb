{
 "cells": [
  {
   "cell_type": "code",
   "execution_count": 1,
   "metadata": {},
   "outputs": [],
   "source": [
    "import itertools\n",
    "import numpy as np\n",
    "import string"
   ]
  },
  {
   "cell_type": "markdown",
   "metadata": {},
   "source": [
    "## Day 1\n",
    "\n",
    "https://adventofcode.com/2020/day/1\n",
    "\n",
    "### Part 1\n",
    "\n",
    "\"Before you leave, the Elves in accounting just need you to fix your expense report (your puzzle input); apparently, something isn't quite adding up.\n",
    "\n",
    "Specifically, they need you to find the two entries that sum to 2020 and then multiply those two numbers together...\n",
    "\n",
    "Find the two entries that sum to 2020; what do you get if you multiply them together?\""
   ]
  },
  {
   "cell_type": "code",
   "execution_count": 2,
   "metadata": {},
   "outputs": [
    {
     "data": {
      "text/plain": [
       "array([1981, 1415, 1767, 1725, 1656, 1860, 1272, 1582, 1668, 1202, 1360,\n",
       "       1399, 1517, 1063, 1773, 1194, 1104, 1652, 1316, 1883, 1117,  522,\n",
       "       1212, 1081, 1579, 1571, 1393,  243, 1334, 1934, 1912, 1784, 1648,\n",
       "       1881, 1362, 1974, 1592, 1639, 1578, 1650, 1771, 1384, 1374, 1569,\n",
       "       1785, 1964, 1910, 1787, 1865, 1373, 1678, 1708, 1147, 1426, 1323,\n",
       "        855, 1257, 1497, 1326, 1764, 1793, 1993, 1926, 1387, 1441, 1332,\n",
       "       1018, 1949, 1807, 1431, 1933, 2009, 1840, 1628,  475, 1601, 1903,\n",
       "       1294, 1942, 1080, 1817, 1848, 1097, 1600, 1833, 1665, 1919, 1408,\n",
       "       1963, 1140, 1558, 1847, 1491, 1367, 1826, 1454, 1714, 2003, 1378,\n",
       "       1301, 1520, 1269, 1820, 1252, 1760, 1135, 1893, 1904, 1956, 1344,\n",
       "       1743, 1358, 1489, 1174, 1675, 1765, 1093, 1543, 1940, 1634, 1778,\n",
       "       1732, 1423, 1308, 1855,  962, 1873, 1692, 1485, 1766, 1287, 1388,\n",
       "       1671, 1002, 1524, 1891, 1627, 1155, 1185, 1122, 1603, 1989, 1343,\n",
       "       1745, 1868, 1166, 1253, 1136, 1803, 1733, 1310, 1762, 1319, 1930,\n",
       "       1637, 1726, 1446,  266, 1121, 1851, 1819, 1284, 1959, 1449, 1965,\n",
       "       1687, 1079, 1808, 1839, 1626, 1359, 1935, 1247, 1932, 1951, 1318,\n",
       "       1597, 1268,  643, 1938, 1741, 1721, 1640, 1238, 1976, 1237, 1960,\n",
       "       1805, 1757, 1990, 1276, 1157, 1469, 1794, 1914, 1982, 1115, 1907,\n",
       "       1846, 1674])"
      ]
     },
     "execution_count": 2,
     "metadata": {},
     "output_type": "execute_result"
    }
   ],
   "source": [
    "data = np.loadtxt('./data/day1_expense_report.txt', dtype='int32')\n",
    "data"
   ]
  },
  {
   "cell_type": "markdown",
   "metadata": {},
   "source": [
    "Nested loop solution"
   ]
  },
  {
   "cell_type": "code",
   "execution_count": 3,
   "metadata": {},
   "outputs": [
    {
     "name": "stdout",
     "output_type": "stream",
     "text": [
      "1020036\n",
      "Wall time: 12 ms\n"
     ]
    }
   ],
   "source": [
    "%%time\n",
    "answer = None\n",
    "for i in range(len(data)):\n",
    "    for j in range(i + 1, len(data)):\n",
    "        if data[i] + data[j] == 2020:\n",
    "            answer = data[i] * data[j]\n",
    "            break\n",
    "\n",
    "print(answer)"
   ]
  },
  {
   "cell_type": "markdown",
   "metadata": {},
   "source": [
    "Pythonic solution"
   ]
  },
  {
   "cell_type": "code",
   "execution_count": 4,
   "metadata": {
    "scrolled": false
   },
   "outputs": [
    {
     "name": "stdout",
     "output_type": "stream",
     "text": [
      "1020036\n",
      "Wall time: 8.98 ms\n"
     ]
    }
   ],
   "source": [
    "%%time\n",
    "answer = None\n",
    "combinations_list = list(itertools.combinations(data, 2))\n",
    "answer = next(np.prod(item) for item in combinations_list if sum(item) == 2020)\n",
    "print(answer)"
   ]
  },
  {
   "cell_type": "markdown",
   "metadata": {},
   "source": [
    "Sort-based solution by @pedrorivotti"
   ]
  },
  {
   "cell_type": "code",
   "execution_count": 5,
   "metadata": {},
   "outputs": [
    {
     "name": "stdout",
     "output_type": "stream",
     "text": [
      "1020036\n",
      "Wall time: 997 µs\n"
     ]
    }
   ],
   "source": [
    "%%time\n",
    "answer = None\n",
    "data_sorted = np.sort(data)\n",
    "idx1 = 0\n",
    "idx2 = len(data_sorted) - 1\n",
    "while idx1 < idx2:\n",
    "    num1 = data_sorted[idx1]\n",
    "    num2 = data_sorted[idx2]\n",
    "    summation = num1 + num2\n",
    "    if summation == 2020:\n",
    "        answer = num1 * num2\n",
    "        break\n",
    "    elif summation > 2020:\n",
    "        idx2 -= 1\n",
    "    elif summation < 2020:\n",
    "        idx1 += 1\n",
    "\n",
    "print(answer)"
   ]
  },
  {
   "cell_type": "markdown",
   "metadata": {},
   "source": [
    "### Part 2\n",
    "\n",
    "\"The Elves in accounting are thankful for your help; one of them even offers you a starfish coin they had left over from a past vacation. They offer you a second one if you can find three numbers in your expense report that meet the same criteria...\n",
    "\n",
    "In your expense report, what is the product of the three entries that sum to 2020?\""
   ]
  },
  {
   "cell_type": "markdown",
   "metadata": {},
   "source": [
    "Nested loop solution"
   ]
  },
  {
   "cell_type": "code",
   "execution_count": 6,
   "metadata": {},
   "outputs": [
    {
     "name": "stdout",
     "output_type": "stream",
     "text": [
      "286977330\n",
      "Wall time: 1.2 s\n"
     ]
    }
   ],
   "source": [
    "%%time\n",
    "answer = None\n",
    "for i in range(len(data)):\n",
    "    for j in range(i + 1, len(data)):\n",
    "        for k in range(j + 1, len(data)):\n",
    "            if data[i] + data[j] + data[k] == 2020:\n",
    "                answer = data[i] * data[j] * data[k]\n",
    "                break\n",
    "\n",
    "print(answer)"
   ]
  },
  {
   "cell_type": "markdown",
   "metadata": {},
   "source": [
    "Pythonic solution"
   ]
  },
  {
   "cell_type": "code",
   "execution_count": 7,
   "metadata": {},
   "outputs": [
    {
     "name": "stdout",
     "output_type": "stream",
     "text": [
      "286977330\n",
      "Wall time: 426 ms\n"
     ]
    }
   ],
   "source": [
    "%%time\n",
    "answer = None\n",
    "combinations_list = list(itertools.combinations(data, 3))\n",
    "answer = next(np.prod(item) for item in combinations_list if sum(item) == 2020)\n",
    "print(answer)"
   ]
  },
  {
   "cell_type": "markdown",
   "metadata": {},
   "source": [
    "Sort-based solution"
   ]
  },
  {
   "cell_type": "code",
   "execution_count": 8,
   "metadata": {},
   "outputs": [
    {
     "name": "stdout",
     "output_type": "stream",
     "text": [
      "286977330\n",
      "Wall time: 0 ns\n"
     ]
    }
   ],
   "source": [
    "%%time\n",
    "answer = None\n",
    "data_sorted = np.sort(data)\n",
    "idx1 = 0\n",
    "idx2 = len(data_sorted) - 1\n",
    "while idx1 < idx2:\n",
    "    num1 = data_sorted[idx1]\n",
    "    num2 = data_sorted[idx2]\n",
    "    if num1 + data_sorted[idx1 + 1] + num2 > 2020:\n",
    "        idx2 -= 1\n",
    "    elif num1 + data_sorted[idx2 - 1] + num2 < 2020:\n",
    "        idx1 += 1\n",
    "    else:\n",
    "        target = 2020 - num2 - num1\n",
    "        for idx3 in range(idx1 + 1, idx2):\n",
    "            num3 = data_sorted[idx3]\n",
    "            if num3 == target:\n",
    "                answer = num1 * num2 * num3\n",
    "                break\n",
    "            if num3 > target:\n",
    "                idx1 += 1\n",
    "                break\n",
    "    if answer is not None:\n",
    "        break\n",
    "\n",
    "print(answer)"
   ]
  },
  {
   "cell_type": "markdown",
   "metadata": {},
   "source": [
    "Alternative slower sort-based solution found on reddit"
   ]
  },
  {
   "cell_type": "code",
   "execution_count": 9,
   "metadata": {},
   "outputs": [
    {
     "name": "stdout",
     "output_type": "stream",
     "text": [
      "286977330\n",
      "Wall time: 22 ms\n"
     ]
    }
   ],
   "source": [
    "%%time\n",
    "answer = None\n",
    "for idx3 in range(len(data_sorted) - 2):\n",
    "    idx1 = idx3 + 1\n",
    "    idx2 = len(data_sorted) - 1\n",
    "    while idx1 < idx2:\n",
    "        summation = data_sorted[idx1] + data_sorted[idx2] + data_sorted[idx3] \n",
    "        if summation == 2020:\n",
    "            answer = data_sorted[idx1] * data_sorted[idx2] * data_sorted[idx3] \n",
    "            break\n",
    "        if summation > 2020:\n",
    "            idx2 -= 1\n",
    "        elif idx1 < 2020:\n",
    "            idx1 += 1\n",
    "\n",
    "print(answer)"
   ]
  },
  {
   "cell_type": "markdown",
   "metadata": {},
   "source": [
    "## Day 2\n",
    "\n",
    "### Part 1\n",
    "\n",
    "\"Their password database seems to be a little corrupted: some of the passwords wouldn't have been allowed by the Official Toboggan Corporate Policy that was in effect when they were chosen.\n",
    "\n",
    "To try to debug the problem, they have created a list (your puzzle input) of passwords (according to the corrupted database) and the corporate policy when that password was set.\n",
    "\n",
    "For example, suppose you have the following list:\n",
    "``` {\n",
    "1-3 a: abcde\n",
    "1-3 b: cdefg\n",
    "2-9 c: ccccccccc\n",
    "```\n",
    "\n",
    "Each line gives the password policy and then the password. The password policy indicates the lowest and highest number of times a given letter must appear for the password to be valid. For example, 1-3 a means that the password must contain a at least 1 time and at most 3 times.\n",
    "\n",
    "In the above example, 2 passwords are valid. The middle password, cdefg, is not; it contains no instances of b, but needs at least 1. The first and third passwords are valid: they contain one a or nine c, both within the limits of their respective policies.\n",
    "\n",
    "How many passwords are valid according to their policies?\""
   ]
  },
  {
   "cell_type": "code",
   "execution_count": 10,
   "metadata": {},
   "outputs": [
    {
     "data": {
      "text/plain": [
       "array([['2-5', 'z:', 'zzztvz'],\n",
       "       ['2-8', 'd:', 'pddzddkdvqgxndd'],\n",
       "       ['4-14', 'r:', 'rrrjrrrrrrbrrccrr'],\n",
       "       ...,\n",
       "       ['1-11', 't:', 'tfvtqvlbtld'],\n",
       "       ['4-5', 'k:', 'kkkczkkkvkkk'],\n",
       "       ['2-7', 'p:', 'ptphppvppppp']], dtype=object)"
      ]
     },
     "execution_count": 10,
     "metadata": {},
     "output_type": "execute_result"
    }
   ],
   "source": [
    "data = np.loadtxt('./data/day2_password_data.txt', dtype='object')\n",
    "data"
   ]
  },
  {
   "cell_type": "markdown",
   "metadata": {},
   "source": [
    "Loop-based solution"
   ]
  },
  {
   "cell_type": "code",
   "execution_count": 11,
   "metadata": {},
   "outputs": [
    {
     "name": "stdout",
     "output_type": "stream",
     "text": [
      "460\n",
      "Wall time: 1.99 ms\n"
     ]
    }
   ],
   "source": [
    "%%time\n",
    "count_valid = 0\n",
    "\n",
    "for row in data:\n",
    "    count_min, count_max = map(int, row[0].split('-'))\n",
    "    character = row[1][:-1]\n",
    "    password = row[2]\n",
    "    count = password.count(character)\n",
    "    if(count_min <= count <= count_max):\n",
    "        count_valid += 1\n",
    "\n",
    "print(count_valid)"
   ]
  },
  {
   "cell_type": "markdown",
   "metadata": {},
   "source": [
    "Pythonic solution"
   ]
  },
  {
   "cell_type": "code",
   "execution_count": 12,
   "metadata": {},
   "outputs": [
    {
     "name": "stdout",
     "output_type": "stream",
     "text": [
      "460\n",
      "Wall time: 2.01 ms\n"
     ]
    }
   ],
   "source": [
    "%%time\n",
    "answer = None\n",
    "def valid_entry(row):\n",
    "    count_min, count_max = map(int, row[0].split('-'))\n",
    "    character = row[1][:-1]\n",
    "    password = row[2]\n",
    "    count = password.count(character)\n",
    "    return (count_min <= count <= count_max)\n",
    "    \n",
    "answer = sum(valid_entry(row) for row in data)\n",
    "print(answer)"
   ]
  },
  {
   "cell_type": "markdown",
   "metadata": {},
   "source": [
    "### Part 2\n",
    "\n",
    "\"Each policy actually describes two positions in the password, where 1 means the first character, 2 means the second character, and so on. (Be careful; Toboggan Corporate Policies have no concept of 'index zero'!) Exactly one of these positions must contain the given letter. Other occurrences of the letter are irrelevant for the purposes of policy enforcement.\n",
    "\n",
    "Given the same example list from above:\n",
    "```\n",
    "1-3 a: abcde is valid: position 1 contains a and position 3 does not.\n",
    "1-3 b: cdefg is invalid: neither position 1 nor position 3 contains b.\n",
    "2-9 c: ccccccccc is invalid: both position 2 and position 9 contain c.\n",
    "```\n",
    "How many passwords are valid according to the new interpretation of the policies?\""
   ]
  },
  {
   "cell_type": "markdown",
   "metadata": {},
   "source": [
    "Loop-based solution"
   ]
  },
  {
   "cell_type": "code",
   "execution_count": 13,
   "metadata": {},
   "outputs": [
    {
     "name": "stdout",
     "output_type": "stream",
     "text": [
      "251\n",
      "Wall time: 1.98 ms\n"
     ]
    }
   ],
   "source": [
    "%%time\n",
    "count_valid = 0\n",
    "\n",
    "for row in data:\n",
    "    pos1, pos2 = map(int, row[0].split('-'))\n",
    "    character = row[1][:-1]\n",
    "    password = row[2]\n",
    "    if((password[pos1-1] == character) is not (password[pos2-1] == character)):\n",
    "        count_valid += 1\n",
    "\n",
    "print(count_valid)"
   ]
  },
  {
   "cell_type": "markdown",
   "metadata": {},
   "source": [
    "Pythonic solution"
   ]
  },
  {
   "cell_type": "code",
   "execution_count": 14,
   "metadata": {},
   "outputs": [
    {
     "name": "stdout",
     "output_type": "stream",
     "text": [
      "251\n",
      "Wall time: 1.03 ms\n"
     ]
    }
   ],
   "source": [
    "%%time\n",
    "answer = None\n",
    "def valid_entry(row):\n",
    "    pos1, pos2 = map(int, row[0].split('-'))\n",
    "    character = row[1][:-1]\n",
    "    password = row[2]\n",
    "    return (password[pos1-1] == character) is not (password[pos2-1] == character)\n",
    "\n",
    "answer = sum(valid_entry(row) for row in data)\n",
    "print(answer)"
   ]
  },
  {
   "cell_type": "markdown",
   "metadata": {},
   "source": [
    "## Day 3\n",
    "\n",
    "### Part 1\n",
    "\n",
    "\"From your starting position at the top-left, check the position that is right 3 and down 1. Then, check the position that is right 3 and down 1 from there, and so on until you go past the bottom of the map.\n",
    "\n",
    "The locations you'd check in the above example are marked here with O where there was an open square and X where there was a tree:\n",
    "```\n",
    "..##.........##.........##.........##.........##.........##.......  --->\n",
    "#..O#...#..#...#...#..#...#...#..#...#...#..#...#...#..#...#...#..\n",
    ".#....X..#..#....#..#..#....#..#..#....#..#..#....#..#..#....#..#.\n",
    "..#.#...#O#..#.#...#.#..#.#...#.#..#.#...#.#..#.#...#.#..#.#...#.#\n",
    ".#...##..#..X...##..#..#...##..#..#...##..#..#...##..#..#...##..#.\n",
    "..#.##.......#.X#.......#.##.......#.##.......#.##.......#.##.....  --->\n",
    ".#.#.#....#.#.#.#.O..#.#.#.#....#.#.#.#....#.#.#.#....#.#.#.#....#\n",
    ".#........#.#........X.#........#.#........#.#........#.#........#\n",
    "#.##...#...#.##...#...#.X#...#...#.##...#...#.##...#...#.##...#...\n",
    "#...##....##...##....##...#X....##...##....##...##....##...##....#\n",
    ".#..#...#.#.#..#...#.#.#..#...X.#.#..#...#.#.#..#...#.#.#..#...#.#  --->```\n",
    "In this example, traversing the map using this slope would cause you to encounter 7 trees.\n",
    "\n",
    "Starting at the top-left corner of your map and following a slope of right 3 and down 1, how many trees would you encounter?\"\n"
   ]
  },
  {
   "cell_type": "code",
   "execution_count": 15,
   "metadata": {
    "scrolled": true
   },
   "outputs": [],
   "source": [
    "data = np.loadtxt('./data/day3_tree_data.txt', dtype='object', comments=None)"
   ]
  },
  {
   "cell_type": "code",
   "execution_count": 16,
   "metadata": {},
   "outputs": [
    {
     "name": "stdout",
     "output_type": "stream",
     "text": [
      "250\n",
      "Wall time: 0 ns\n"
     ]
    }
   ],
   "source": [
    "%%time\n",
    "pos = 0\n",
    "count_trees = 0\n",
    "slope = 3\n",
    "for row in data:\n",
    "    if row[pos] == '#':\n",
    "        count_trees += 1\n",
    "    pos += slope\n",
    "    if pos >= len(row):\n",
    "        pos -= len(row)\n",
    "        \n",
    "print(count_trees)"
   ]
  },
  {
   "cell_type": "markdown",
   "metadata": {},
   "source": [
    "Pythonic solution from @chigozienri"
   ]
  },
  {
   "cell_type": "code",
   "execution_count": 17,
   "metadata": {},
   "outputs": [
    {
     "name": "stdout",
     "output_type": "stream",
     "text": [
      "250\n",
      "Wall time: 1.03 ms\n"
     ]
    }
   ],
   "source": [
    "%%time\n",
    "answer = None\n",
    "slope = [3, 1]\n",
    "bool_array = [[char == '#' for char in row] for row in data]\n",
    "def count_trees(slope, bool_array):\n",
    "    return sum([row[(i * slope[0]) % len(row)] for i, row in enumerate(bool_array[::slope[1]])])\n",
    "\n",
    "answer = count_trees(slope, bool_array)\n",
    "print(answer)"
   ]
  },
  {
   "cell_type": "markdown",
   "metadata": {},
   "source": [
    "## Part 2\n",
    "\n",
    "\"Determine the number of trees you would encounter if, for each of the following slopes, you start at the top-left corner and traverse the map all the way to the bottom:\n",
    "\n",
    "- Right 1, down 1.\n",
    "- Right 3, down 1. (This is the slope you already checked.)\n",
    "- Right 5, down 1.\n",
    "- Right 7, down 1.\n",
    "- Right 1, down 2.\n",
    "\n",
    "In the above example, these slopes would find 2, 7, 3, 4, and 2 tree(s) respectively; multiplied together, these produce the answer 336.\n",
    "\n",
    "What do you get if you multiply together the number of trees encountered on each of the listed slopes?\""
   ]
  },
  {
   "cell_type": "markdown",
   "metadata": {},
   "source": [
    "Loop-based solution"
   ]
  },
  {
   "cell_type": "code",
   "execution_count": 18,
   "metadata": {},
   "outputs": [
    {
     "name": "stdout",
     "output_type": "stream",
     "text": [
      "1592662500\n",
      "Wall time: 2.99 ms\n"
     ]
    }
   ],
   "source": [
    "%%time\n",
    "answer = 1\n",
    "slopes = np.array([[1, 1], [3, 1], [5, 1], [7, 1], [1, 2]])\n",
    "for slope in slopes:\n",
    "    pos = 0\n",
    "    count_trees = 0\n",
    "    data_iter = iter(data)\n",
    "    for row in data_iter:\n",
    "        if row[pos] == '#':\n",
    "            count_trees += 1\n",
    "        pos += slope[0]\n",
    "        if pos >= len(row):\n",
    "            pos -= len(row)\n",
    "        for _ in range(slope[1]-1):\n",
    "            next(data_iter, None)\n",
    "    answer *= count_trees\n",
    "    \n",
    "print(answer)"
   ]
  },
  {
   "cell_type": "markdown",
   "metadata": {},
   "source": [
    "Functional solution"
   ]
  },
  {
   "cell_type": "code",
   "execution_count": 19,
   "metadata": {},
   "outputs": [
    {
     "name": "stdout",
     "output_type": "stream",
     "text": [
      "1592662500\n",
      "Wall time: 977 µs\n"
     ]
    }
   ],
   "source": [
    "%%time\n",
    "answer = None\n",
    "slopes = np.array([[1, 1], [3, 1], [5, 1], [7, 1], [1, 2]])\n",
    "bool_array = [[char == '#' for char in row] for row in data]\n",
    "def count_trees(right, down, bool_array):\n",
    "    return sum([row[(i * right) % len(row)] for i, row in enumerate(bool_array[::down])])\n",
    "\n",
    "answer = np.prod(list(map(count_trees, slopes[:, 0], slopes[:, 1], itertools.repeat(bool_array, len(slopes)))))\n",
    "print(answer)"
   ]
  },
  {
   "cell_type": "markdown",
   "metadata": {},
   "source": [
    "Pythonic solution"
   ]
  },
  {
   "cell_type": "code",
   "execution_count": 20,
   "metadata": {},
   "outputs": [
    {
     "name": "stdout",
     "output_type": "stream",
     "text": [
      "1592662500\n",
      "Wall time: 1.99 ms\n"
     ]
    }
   ],
   "source": [
    "%%time\n",
    "answer = None\n",
    "slopes = [[1, 1], [3, 1], [5, 1], [7, 1], [1, 2]]\n",
    "bool_array = [[char == '#' for char in row] for row in data]\n",
    "def count_trees(slope, bool_array):\n",
    "    return sum([row[(i * slope[0]) % len(row)] for i, row in enumerate(bool_array[::slope[1]])])\n",
    "\n",
    "answer = np.prod([count_trees(slope, bool_array) for slope in slopes])\n",
    "print(answer)"
   ]
  },
  {
   "cell_type": "markdown",
   "metadata": {},
   "source": [
    "## Day 4\n",
    "\n",
    "### Part 1\n",
    "\n",
    "\"The automatic passport scanners are slow because they're having trouble detecting which passports have all required fields. The expected fields are as follows:\n",
    "\n",
    "```\n",
    "byr (Birth Year)\n",
    "iyr (Issue Year)\n",
    "eyr (Expiration Year)\n",
    "hgt (Height)\n",
    "hcl (Hair Color)\n",
    "ecl (Eye Color)\n",
    "pid (Passport ID)\n",
    "cid (Country ID)\n",
    "```\n",
    "Passport data is validated in batch files (your puzzle input). Each passport is represented as a sequence of key:value pairs separated by spaces or newlines. Passports are separated by blank lines.\n",
    "\n",
    "Here is an example batch file containing four passports:\n",
    "```\n",
    "ecl:gry pid:860033327 eyr:2020 hcl:#fffffd\n",
    "byr:1937 iyr:2017 cid:147 hgt:183cm\n",
    "\n",
    "iyr:2013 ecl:amb cid:350 eyr:2023 pid:028048884\n",
    "hcl:#cfa07d byr:1929\n",
    "\n",
    "hcl:#ae17e1 iyr:2013\n",
    "eyr:2024\n",
    "ecl:brn pid:760753108 byr:1931\n",
    "hgt:179cm\n",
    "\n",
    "hcl:#cfa07d eyr:2025 pid:166559648\n",
    "iyr:2011 ecl:brn hgt:59in\n",
    "```\n",
    "The first passport is valid - all eight fields are present. The second passport is invalid - it is missing hgt (the Height field).\n",
    "\n",
    "The third passport is interesting; the only missing field is cid, so it looks like data from North Pole Credentials, not a passport at all! Surely, nobody would mind if you made the system temporarily ignore missing cid fields. Treat this \"passport\" as valid.\n",
    "\n",
    "The fourth passport is missing two fields, cid and byr. Missing cid is fine, but missing any other field is not, so this passport is invalid.\n",
    "\n",
    "According to the above rules, your improved system would report 2 valid passports.\n",
    "\n",
    "Count the number of valid passports - those that have all required fields. Treat cid as optional. In your batch file, how many passports are valid?\""
   ]
  },
  {
   "cell_type": "code",
   "execution_count": 21,
   "metadata": {},
   "outputs": [
    {
     "name": "stdout",
     "output_type": "stream",
     "text": [
      "216\n"
     ]
    }
   ],
   "source": [
    "file = open('./data/day4_passport_data.txt', 'r')\n",
    "\n",
    "required_keys = ['byr:', 'iyr:', 'eyr:', 'hgt:', 'hcl:', 'ecl:', 'pid:']\n",
    "passport_data = []\n",
    "data = \"\"\n",
    "for line in file:\n",
    "    if line  == \"\\n\":\n",
    "        passport_data.append(data)\n",
    "        data = \"\"\n",
    "    else:\n",
    "        data += line.replace('\\n', ' ')\n",
    "\n",
    "def is_valid(row, required_keys):\n",
    "    return all(key in row for key in required_keys)\n",
    "\n",
    "answer = sum([is_valid(row, required_keys) for row in passport_data])\n",
    "print(answer)"
   ]
  },
  {
   "cell_type": "markdown",
   "metadata": {},
   "source": [
    "### Part 2\n",
    "\n",
    "\"You can continue to ignore the cid field, but each other field has strict rules about what values are valid for automatic validation:\n",
    "\n",
    "- byr (Birth Year) - four digits; at least 1920 and at most 2002.\n",
    "- iyr (Issue Year) - four digits; at least 2010 and at most 2020.\n",
    "- eyr (Expiration Year) - four digits; at least 2020 and at most 2030.\n",
    "- hgt (Height) - a number followed by either cm or in:\n",
    "    - If cm, the number must be at least 150 and at most 193.\n",
    "    - If in, the number must be at least 59 and at most 76.\n",
    "- hcl (Hair Color) - a # followed by exactly six characters 0-9 or a-f.\n",
    "- ecl (Eye Color) - exactly one of: amb blu brn gry grn hzl oth.\n",
    "- pid (Passport ID) - a nine-digit number, including leading zeroes.\n",
    "- cid (Country ID) - ignored, missing or not.\n",
    "\n",
    "Your job is to count the passports where all required fields are both present and valid according to the above rules.\"\n",
    "\n",
    "\"Count the number of valid passports - those that have all required fields and valid values. Continue to treat cid as optional. In your batch file, how many passports are valid?\""
   ]
  },
  {
   "cell_type": "code",
   "execution_count": 22,
   "metadata": {},
   "outputs": [
    {
     "name": "stdout",
     "output_type": "stream",
     "text": [
      "150\n",
      "Wall time: 5.95 ms\n"
     ]
    }
   ],
   "source": [
    "%%time\n",
    "file = open('./data/day4_passport_data.txt', 'r')\n",
    "required_keys = ['byr:', 'iyr:', 'eyr:', 'hgt:', 'hcl:', 'ecl:', 'pid:']\n",
    "passport_data = []\n",
    "data = \"\"\n",
    "for line in file:\n",
    "    if line  == \"\\n\":\n",
    "        passport_data.append(data)\n",
    "        data = \"\"\n",
    "    else:\n",
    "        data += line.replace('\\n', ' ')\n",
    "\n",
    "def is_entry_valid(entry):\n",
    "    hex_digits = set(string.hexdigits)\n",
    "    key, value = entry.strip().split(':')\n",
    "    if key == 'byr':\n",
    "        return value.isdigit() and (1920 <= int(value) <= 2002)\n",
    "    elif key == 'iyr':\n",
    "        return value.isdigit() and (2010 <= int(value) <= 2020)\n",
    "    elif key == 'eyr':\n",
    "        return value.isdigit() and (2020 <= int(value) <= 2030)\n",
    "    elif key == 'hgt':\n",
    "        if value[-2:] == 'cm':\n",
    "            return value[:-2].isdigit() and (150 <= int(value[:-2]) <= 193)\n",
    "        elif value[-2:] == 'in':\n",
    "            return value[:-2].isdigit() and (59 <= int(value[:-2]) <= 76)\n",
    "        else:\n",
    "            return False\n",
    "    elif key == 'hcl':\n",
    "        if value[0] == '#':\n",
    "            return all(char in hex_digits for char in value[1:])\n",
    "        else:\n",
    "            return False\n",
    "    elif key == 'ecl':\n",
    "        return len(value) == 3 and value in ['amb', 'blu', 'brn', 'gry', 'grn', 'hzl', 'oth']\n",
    "    elif key == 'pid':\n",
    "        return len(value) == 9 and value.isdigit()\n",
    "    else:\n",
    "        return True\n",
    "        \n",
    "def is_passport_valid(row, required_keys):\n",
    "    if all(key in row for key in required_keys):\n",
    "        entries = row.split()\n",
    "        return all(is_entry_valid(entry) for entry in entries)\n",
    "    else:\n",
    "        return False\n",
    "\n",
    "answer = sum([is_passport_valid(row, required_keys) for row in passport_data])\n",
    "print(answer)"
   ]
  },
  {
   "cell_type": "markdown",
   "metadata": {},
   "source": [
    "## Day 5\n",
    "\n",
    "### Part 1\n",
    "\n",
    "\"Instead of zones or groups, this airline uses binary space partitioning to seat people. A seat might be specified like FBFBBFFRLR, where F means \"front\", B means \"back\", L means \"left\", and R means \"right\".\n",
    "\n",
    "The first 7 characters will either be F or B; these specify exactly one of the 128 rows on the plane (numbered 0 through 127). Each letter tells you which half of a region the given seat is in. Start with the whole list of rows; the first letter indicates whether the seat is in the front (0 through 63) or the back (64 through 127). The next letter indicates which half of that region the seat is in, and so on until you're left with exactly one row.\n",
    "\n",
    "For example, consider just the first seven characters of FBFBBFFRLR:\n",
    "\n",
    "- Start by considering the whole range, rows 0 through 127.\n",
    "- F means to take the lower half, keeping rows 0 through 63.\n",
    "- B means to take the upper half, keeping rows 32 through 63.\n",
    "- F means to take the lower half, keeping rows 32 through 47.\n",
    "- B means to take the upper half, keeping rows 40 through 47.\n",
    "- B keeps rows 44 through 47.\n",
    "- F keeps rows 44 through 45.\n",
    "- The final F keeps the lower of the two, row 44.\n",
    "\n",
    "The last three characters will be either L or R; these specify exactly one of the 8 columns of seats on the plane (numbered 0 through 7). The same process as above proceeds again, this time with only three steps. L means to keep the lower half, while R means to keep the upper half.\n",
    "\n",
    "For example, consider just the last 3 characters of FBFBBFFRLR:\n",
    "\n",
    "- Start by considering the whole range, columns 0 through 7.\n",
    "- R means to take the upper half, keeping columns 4 through 7.\n",
    "- L means to take the lower half, keeping columns 4 through 5.\n",
    "- The final R keeps the upper of the two, column 5.\n",
    "\n",
    "So, decoding FBFBBFFRLR reveals that it is the seat at row 44, column 5.\n",
    "\n",
    "Every seat also has a unique seat ID: multiply the row by 8, then add the column. In this example, the seat has ID 44 * 8 + 5 = 357.\n",
    "\n",
    "Here are some other boarding passes:\n",
    "\n",
    "- BFFFBBFRRR: row 70, column 7, seat ID 567.\n",
    "- FFFBBBFRRR: row 14, column 7, seat ID 119.\n",
    "- BBFFBBFRLL: row 102, column 4, seat ID 820.\n",
    "\n",
    "As a sanity check, look through your list of boarding passes. What is the highest seat ID on a boarding pass?\""
   ]
  },
  {
   "cell_type": "code",
   "execution_count": 26,
   "metadata": {},
   "outputs": [],
   "source": [
    "data = np.loadtxt('./data/day5_boarding_pass_data.txt', dtype='object', comments=None)"
   ]
  },
  {
   "cell_type": "code",
   "execution_count": 46,
   "metadata": {},
   "outputs": [
    {
     "name": "stdout",
     "output_type": "stream",
     "text": [
      "842\n",
      "Wall time: 2.99 ms\n"
     ]
    }
   ],
   "source": [
    "%%time\n",
    "def get_seat_id(code):\n",
    "    lower_row = 0\n",
    "    upper_row = 127\n",
    "    lower_col = 0\n",
    "    upper_col = 7\n",
    "    for char in code:\n",
    "        if char == 'F':\n",
    "            upper_row -= (upper_row + 1 - lower_row) / 2\n",
    "        elif char == 'B':\n",
    "            lower_row += (upper_row + 1 - lower_row) / 2\n",
    "        elif char == 'L':\n",
    "            upper_col -= (upper_col + 1 - lower_col) / 2\n",
    "        elif char == 'R':\n",
    "            lower_col += (upper_col + 1 - lower_col) / 2\n",
    "    \n",
    "    return int(8 * lower_row + lower_col)\n",
    "    \n",
    "answer = max(get_seat_id(row) for row in data)\n",
    "print(answer)"
   ]
  },
  {
   "cell_type": "markdown",
   "metadata": {},
   "source": [
    "### Part 2\n",
    "\n",
    "\"However, there's a catch: some of the seats at the very front and back of the plane don't exist on this aircraft, so they'll be missing from your list as well.\n",
    "\n",
    "Your seat wasn't at the very front or back, though; the seats with IDs +1 and -1 from yours will be in your list.\""
   ]
  },
  {
   "cell_type": "code",
   "execution_count": 53,
   "metadata": {},
   "outputs": [
    {
     "name": "stdout",
     "output_type": "stream",
     "text": [
      "617\n",
      "Wall time: 2.99 ms\n"
     ]
    }
   ],
   "source": [
    "%%time\n",
    "ids_sorted = np.sort([get_seat_id(row) for row in data])\n",
    "answer = next(id for i, id in enumerate(ids_sorted) if ids_sorted[i + 1] - id > 1) + 1\n",
    "print(answer)"
   ]
  },
  {
   "cell_type": "code",
   "execution_count": null,
   "metadata": {},
   "outputs": [],
   "source": []
  }
 ],
 "metadata": {
  "kernelspec": {
   "display_name": "Python 3",
   "language": "python",
   "name": "python3"
  },
  "language_info": {
   "codemirror_mode": {
    "name": "ipython",
    "version": 3
   },
   "file_extension": ".py",
   "mimetype": "text/x-python",
   "name": "python",
   "nbconvert_exporter": "python",
   "pygments_lexer": "ipython3",
   "version": "3.6.12"
  }
 },
 "nbformat": 4,
 "nbformat_minor": 4
}
